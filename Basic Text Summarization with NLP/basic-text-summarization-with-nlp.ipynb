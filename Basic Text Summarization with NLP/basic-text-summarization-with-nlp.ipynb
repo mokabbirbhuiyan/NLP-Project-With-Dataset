{
 "cells": [
  {
   "cell_type": "code",
   "execution_count": null,
   "id": "3a00ba2b",
   "metadata": {
    "papermill": {
     "duration": 0.010823,
     "end_time": "2023-12-18T11:03:57.813019",
     "exception": false,
     "start_time": "2023-12-18T11:03:57.802196",
     "status": "completed"
    },
    "tags": []
   },
   "outputs": [],
   "source": []
  },
  {
   "cell_type": "code",
   "execution_count": 1,
   "id": "b170022f",
   "metadata": {
    "execution": {
     "iopub.execute_input": "2023-12-18T11:03:57.836167Z",
     "iopub.status.busy": "2023-12-18T11:03:57.835391Z",
     "iopub.status.idle": "2023-12-18T11:04:04.332524Z",
     "shell.execute_reply": "2023-12-18T11:04:04.330551Z"
    },
    "papermill": {
     "duration": 6.51192,
     "end_time": "2023-12-18T11:04:04.335505",
     "exception": false,
     "start_time": "2023-12-18T11:03:57.823585",
     "status": "completed"
    },
    "tags": []
   },
   "outputs": [],
   "source": [
    "import spacy\n",
    "from spacy.lang.en.stop_words import STOP_WORDS\n",
    "from string import punctuation"
   ]
  },
  {
   "cell_type": "code",
   "execution_count": 2,
   "id": "f6ddedf0",
   "metadata": {
    "execution": {
     "iopub.execute_input": "2023-12-18T11:04:04.362690Z",
     "iopub.status.busy": "2023-12-18T11:04:04.361321Z",
     "iopub.status.idle": "2023-12-18T11:04:04.369412Z",
     "shell.execute_reply": "2023-12-18T11:04:04.367928Z"
    },
    "papermill": {
     "duration": 0.025447,
     "end_time": "2023-12-18T11:04:04.372978",
     "exception": false,
     "start_time": "2023-12-18T11:04:04.347531",
     "status": "completed"
    },
    "tags": []
   },
   "outputs": [],
   "source": [
    "text = \"\"\" Load shedding is one of the common incidents in our life. We almost every day experience load shedding. When the power supply can not meet the demand, it leads to load shedding. It causes a crisis in the electricity supply. The unplanned distribution of electricity is the main cause of load shedding. The reason can be the illegal connection and shortage of the production of electricity. People suffer a lot because of load shedding. They can’t work properly. Students can’t study properly. \"\"\""
   ]
  },
  {
   "cell_type": "code",
   "execution_count": 3,
   "id": "40365295",
   "metadata": {
    "execution": {
     "iopub.execute_input": "2023-12-18T11:04:04.397073Z",
     "iopub.status.busy": "2023-12-18T11:04:04.396479Z",
     "iopub.status.idle": "2023-12-18T11:04:04.404132Z",
     "shell.execute_reply": "2023-12-18T11:04:04.403192Z"
    },
    "id": "0fdo6Frfef5c",
    "outputId": "620d573e-85c2-4d08-8688-895a16228966",
    "papermill": {
     "duration": 0.023289,
     "end_time": "2023-12-18T11:04:04.407223",
     "exception": false,
     "start_time": "2023-12-18T11:04:04.383934",
     "status": "completed"
    },
    "tags": []
   },
   "outputs": [
    {
     "data": {
      "text/plain": [
       "494"
      ]
     },
     "execution_count": 3,
     "metadata": {},
     "output_type": "execute_result"
    }
   ],
   "source": [
    "len(text)"
   ]
  },
  {
   "cell_type": "code",
   "execution_count": 4,
   "id": "e2e139f9",
   "metadata": {
    "execution": {
     "iopub.execute_input": "2023-12-18T11:04:04.432558Z",
     "iopub.status.busy": "2023-12-18T11:04:04.431895Z",
     "iopub.status.idle": "2023-12-18T11:04:06.043087Z",
     "shell.execute_reply": "2023-12-18T11:04:06.042000Z"
    },
    "id": "s0EgtCTxezAW",
    "papermill": {
     "duration": 1.627455,
     "end_time": "2023-12-18T11:04:06.045890",
     "exception": false,
     "start_time": "2023-12-18T11:04:04.418435",
     "status": "completed"
    },
    "tags": []
   },
   "outputs": [],
   "source": [
    "nlp = spacy.load(\"en_core_web_sm\")"
   ]
  },
  {
   "cell_type": "code",
   "execution_count": 5,
   "id": "b973708c",
   "metadata": {
    "execution": {
     "iopub.execute_input": "2023-12-18T11:04:06.068723Z",
     "iopub.status.busy": "2023-12-18T11:04:06.068334Z",
     "iopub.status.idle": "2023-12-18T11:04:06.125075Z",
     "shell.execute_reply": "2023-12-18T11:04:06.124026Z"
    },
    "id": "OIAdWBlTezD9",
    "papermill": {
     "duration": 0.071467,
     "end_time": "2023-12-18T11:04:06.127862",
     "exception": false,
     "start_time": "2023-12-18T11:04:06.056395",
     "status": "completed"
    },
    "tags": []
   },
   "outputs": [],
   "source": [
    "doc = nlp(text)"
   ]
  },
  {
   "cell_type": "code",
   "execution_count": 6,
   "id": "f1956148",
   "metadata": {
    "execution": {
     "iopub.execute_input": "2023-12-18T11:04:06.151147Z",
     "iopub.status.busy": "2023-12-18T11:04:06.150713Z",
     "iopub.status.idle": "2023-12-18T11:04:06.158681Z",
     "shell.execute_reply": "2023-12-18T11:04:06.156622Z"
    },
    "id": "5nDdSb8hfJCI",
    "outputId": "7ef07ddb-9e85-405f-8f23-2f2bf250e213",
    "papermill": {
     "duration": 0.023374,
     "end_time": "2023-12-18T11:04:06.161846",
     "exception": false,
     "start_time": "2023-12-18T11:04:06.138472",
     "status": "completed"
    },
    "tags": []
   },
   "outputs": [
    {
     "name": "stdout",
     "output_type": "stream",
     "text": [
      "[' ', 'Load', 'shedding', 'is', 'one', 'of', 'the', 'common', 'incidents', 'in', 'our', 'life', '.', 'We', 'almost', 'every', 'day', 'experience', 'load', 'shedding', '.', 'When', 'the', 'power', 'supply', 'can', 'not', 'meet', 'the', 'demand', ',', 'it', 'leads', 'to', 'load', 'shedding', '.', 'It', 'causes', 'a', 'crisis', 'in', 'the', 'electricity', 'supply', '.', 'The', 'unplanned', 'distribution', 'of', 'electricity', 'is', 'the', 'main', 'cause', 'of', 'load', 'shedding', '.', 'The', 'reason', 'can', 'be', 'the', 'illegal', 'connection', 'and', 'shortage', 'of', 'the', 'production', 'of', 'electricity', '.', 'People', 'suffer', 'a', 'lot', 'because', 'of', 'load', 'shedding', '.', 'They', 'ca', 'n’t', 'work', 'properly', '.', 'Students', 'ca', 'n’t', 'study', 'properly', '.']\n"
     ]
    }
   ],
   "source": [
    "tokens = [token.text for token in doc] \n",
    "#Here use list comprehension\n",
    "#In spaCy, the token.text is  attribute, it's splite every word.\n",
    "\n",
    "print(tokens)"
   ]
  },
  {
   "cell_type": "code",
   "execution_count": 7,
   "id": "143a0c87",
   "metadata": {
    "execution": {
     "iopub.execute_input": "2023-12-18T11:04:06.186571Z",
     "iopub.status.busy": "2023-12-18T11:04:06.186164Z",
     "iopub.status.idle": "2023-12-18T11:04:06.195286Z",
     "shell.execute_reply": "2023-12-18T11:04:06.193242Z"
    },
    "id": "Nb_u0OdNfJIV",
    "outputId": "20d1be6a-f4a9-4e6f-875a-4b9606a8a11b",
    "papermill": {
     "duration": 0.025933,
     "end_time": "2023-12-18T11:04:06.198643",
     "exception": false,
     "start_time": "2023-12-18T11:04:06.172710",
     "status": "completed"
    },
    "tags": []
   },
   "outputs": [
    {
     "data": {
      "text/plain": [
       "'!\"#$%&\\'()*+,-./:;<=>?@[\\\\]^_`{|}~'"
      ]
     },
     "execution_count": 7,
     "metadata": {},
     "output_type": "execute_result"
    }
   ],
   "source": [
    "punctuation"
   ]
  },
  {
   "cell_type": "code",
   "execution_count": 8,
   "id": "b9bdf2c9",
   "metadata": {
    "execution": {
     "iopub.execute_input": "2023-12-18T11:04:06.223849Z",
     "iopub.status.busy": "2023-12-18T11:04:06.223324Z",
     "iopub.status.idle": "2023-12-18T11:04:06.232613Z",
     "shell.execute_reply": "2023-12-18T11:04:06.231433Z"
    },
    "id": "MMXi-gaGaRq1",
    "papermill": {
     "duration": 0.026206,
     "end_time": "2023-12-18T11:04:06.236387",
     "exception": false,
     "start_time": "2023-12-18T11:04:06.210181",
     "status": "completed"
    },
    "tags": []
   },
   "outputs": [],
   "source": [
    "word_freq = {} #Here use dictionary for count word\n",
    "\n",
    "stop_words = list(STOP_WORDS) #STOP_WORDS is a keyword of spacy, list of Stop word.\n",
    "\n",
    "for word in doc: \n",
    "  if word.text.lower() not in  stop_words: #here word.text means it represent doc word,\n",
    "        #if we want to access exect every token in word then we should use word.text\n",
    "        #word.text.lower() convert Upper case to lower case word \n",
    "        #if this loop specific word is absent from stop_words list then this loop will continue\n",
    "    if word.text.lower() not in punctuation:\n",
    "            #if this loop specific word is absent from punctuation list then this loop will continue\n",
    "        if word.text not in word_freq.keys():\n",
    "                #if this loop specific word is absent from word_freq.keys() dictionary then this loop will continue and set value 1.\n",
    "            word_freq[word.text] = 1\n",
    "        else:\n",
    "            word_freq[word.text] += 1  \n",
    "                #here 1 will be added if the word already available in word_freq.keys()\n"
   ]
  },
  {
   "cell_type": "code",
   "execution_count": 9,
   "id": "2c24f0fd",
   "metadata": {
    "execution": {
     "iopub.execute_input": "2023-12-18T11:04:06.262220Z",
     "iopub.status.busy": "2023-12-18T11:04:06.261016Z",
     "iopub.status.idle": "2023-12-18T11:04:06.267591Z",
     "shell.execute_reply": "2023-12-18T11:04:06.265899Z"
    },
    "id": "HC-npVaCgFfF",
    "outputId": "e8e11897-b60e-4cc8-dc38-5d1ed87e094a",
    "papermill": {
     "duration": 0.022669,
     "end_time": "2023-12-18T11:04:06.270698",
     "exception": false,
     "start_time": "2023-12-18T11:04:06.248029",
     "status": "completed"
    },
    "tags": []
   },
   "outputs": [
    {
     "name": "stdout",
     "output_type": "stream",
     "text": [
      "{' ': 1, 'Load': 1, 'shedding': 5, 'common': 1, 'incidents': 1, 'life': 1, 'day': 1, 'experience': 1, 'load': 4, 'power': 1, 'supply': 2, 'meet': 1, 'demand': 1, 'leads': 1, 'causes': 1, 'crisis': 1, 'electricity': 3, 'unplanned': 1, 'distribution': 1, 'main': 1, 'cause': 1, 'reason': 1, 'illegal': 1, 'connection': 1, 'shortage': 1, 'production': 1, 'People': 1, 'suffer': 1, 'lot': 1, 'work': 1, 'properly': 2, 'Students': 1, 'study': 1}\n"
     ]
    }
   ],
   "source": [
    "print(word_freq) #every word frequency list"
   ]
  },
  {
   "cell_type": "code",
   "execution_count": 10,
   "id": "c11cf5f3",
   "metadata": {
    "execution": {
     "iopub.execute_input": "2023-12-18T11:04:06.297672Z",
     "iopub.status.busy": "2023-12-18T11:04:06.296157Z",
     "iopub.status.idle": "2023-12-18T11:04:06.303595Z",
     "shell.execute_reply": "2023-12-18T11:04:06.302063Z"
    },
    "id": "82_PqaKUgFpG",
    "papermill": {
     "duration": 0.024547,
     "end_time": "2023-12-18T11:04:06.306607",
     "exception": false,
     "start_time": "2023-12-18T11:04:06.282060",
     "status": "completed"
    },
    "tags": []
   },
   "outputs": [
    {
     "name": "stdout",
     "output_type": "stream",
     "text": [
      "5\n"
     ]
    }
   ],
   "source": [
    "max_freq = max(word_freq.values())\n",
    "print(max_freq) #here max frequency is 5"
   ]
  },
  {
   "cell_type": "code",
   "execution_count": 11,
   "id": "37aae101",
   "metadata": {
    "execution": {
     "iopub.execute_input": "2023-12-18T11:04:06.333904Z",
     "iopub.status.busy": "2023-12-18T11:04:06.332741Z",
     "iopub.status.idle": "2023-12-18T11:04:06.340393Z",
     "shell.execute_reply": "2023-12-18T11:04:06.339120Z"
    },
    "papermill": {
     "duration": 0.024973,
     "end_time": "2023-12-18T11:04:06.343548",
     "exception": false,
     "start_time": "2023-12-18T11:04:06.318575",
     "status": "completed"
    },
    "tags": []
   },
   "outputs": [
    {
     "name": "stdout",
     "output_type": "stream",
     "text": [
      "dict_keys([' ', 'Load', 'shedding', 'common', 'incidents', 'life', 'day', 'experience', 'load', 'power', 'supply', 'meet', 'demand', 'leads', 'causes', 'crisis', 'electricity', 'unplanned', 'distribution', 'main', 'cause', 'reason', 'illegal', 'connection', 'shortage', 'production', 'People', 'suffer', 'lot', 'work', 'properly', 'Students', 'study'])\n"
     ]
    }
   ],
   "source": [
    "print(word_freq.keys())"
   ]
  },
  {
   "cell_type": "code",
   "execution_count": 12,
   "id": "b686bcb4",
   "metadata": {
    "execution": {
     "iopub.execute_input": "2023-12-18T11:04:06.369347Z",
     "iopub.status.busy": "2023-12-18T11:04:06.368787Z",
     "iopub.status.idle": "2023-12-18T11:04:06.374947Z",
     "shell.execute_reply": "2023-12-18T11:04:06.373599Z"
    },
    "id": "TH4blB4ch7A2",
    "papermill": {
     "duration": 0.022523,
     "end_time": "2023-12-18T11:04:06.378319",
     "exception": false,
     "start_time": "2023-12-18T11:04:06.355796",
     "status": "completed"
    },
    "tags": []
   },
   "outputs": [],
   "source": [
    "for word in word_freq.keys(): \n",
    "  word_freq[word] = word_freq[word] / max_freq #Here we diveded every word frequency with 5"
   ]
  },
  {
   "cell_type": "code",
   "execution_count": 13,
   "id": "35ce3e5d",
   "metadata": {
    "execution": {
     "iopub.execute_input": "2023-12-18T11:04:06.402984Z",
     "iopub.status.busy": "2023-12-18T11:04:06.402574Z",
     "iopub.status.idle": "2023-12-18T11:04:06.409189Z",
     "shell.execute_reply": "2023-12-18T11:04:06.408106Z"
    },
    "id": "Y_NqpJZuiYEd",
    "outputId": "6e4a6f90-f45e-4aa3-ca71-beda983bb6fe",
    "papermill": {
     "duration": 0.022018,
     "end_time": "2023-12-18T11:04:06.411688",
     "exception": false,
     "start_time": "2023-12-18T11:04:06.389670",
     "status": "completed"
    },
    "tags": []
   },
   "outputs": [
    {
     "name": "stdout",
     "output_type": "stream",
     "text": [
      "{' ': 0.2, 'Load': 0.2, 'shedding': 1.0, 'common': 0.2, 'incidents': 0.2, 'life': 0.2, 'day': 0.2, 'experience': 0.2, 'load': 0.8, 'power': 0.2, 'supply': 0.4, 'meet': 0.2, 'demand': 0.2, 'leads': 0.2, 'causes': 0.2, 'crisis': 0.2, 'electricity': 0.6, 'unplanned': 0.2, 'distribution': 0.2, 'main': 0.2, 'cause': 0.2, 'reason': 0.2, 'illegal': 0.2, 'connection': 0.2, 'shortage': 0.2, 'production': 0.2, 'People': 0.2, 'suffer': 0.2, 'lot': 0.2, 'work': 0.2, 'properly': 0.4, 'Students': 0.2, 'study': 0.2}\n"
     ]
    }
   ],
   "source": [
    "print(word_freq)"
   ]
  },
  {
   "cell_type": "code",
   "execution_count": 14,
   "id": "5f95d5dd",
   "metadata": {
    "execution": {
     "iopub.execute_input": "2023-12-18T11:04:06.436543Z",
     "iopub.status.busy": "2023-12-18T11:04:06.436130Z",
     "iopub.status.idle": "2023-12-18T11:04:06.442224Z",
     "shell.execute_reply": "2023-12-18T11:04:06.441113Z"
    },
    "id": "spkFp2FIaVrK",
    "outputId": "55cbaf89-af1e-49af-e19a-91cf16286315",
    "papermill": {
     "duration": 0.021128,
     "end_time": "2023-12-18T11:04:06.444505",
     "exception": false,
     "start_time": "2023-12-18T11:04:06.423377",
     "status": "completed"
    },
    "tags": []
   },
   "outputs": [
    {
     "name": "stdout",
     "output_type": "stream",
     "text": [
      "[ Load shedding is one of the common incidents in our life., We almost every day experience load shedding., When the power supply can not meet the demand, it leads to load shedding., It causes a crisis in the electricity supply., The unplanned distribution of electricity is the main cause of load shedding., The reason can be the illegal connection and shortage of the production of electricity., People suffer a lot because of load shedding., They can’t work properly., Students can’t study properly.]\n"
     ]
    }
   ],
   "source": [
    "sent_tokens = [sent for sent in doc.sents] #Here sentences are tokenized with doc.sents attribute\n",
    "print(sent_tokens)"
   ]
  },
  {
   "cell_type": "code",
   "execution_count": 15,
   "id": "c73dded5",
   "metadata": {
    "execution": {
     "iopub.execute_input": "2023-12-18T11:04:06.470099Z",
     "iopub.status.busy": "2023-12-18T11:04:06.469496Z",
     "iopub.status.idle": "2023-12-18T11:04:06.475240Z",
     "shell.execute_reply": "2023-12-18T11:04:06.473692Z"
    },
    "id": "wtwQuOO6iuNw",
    "papermill": {
     "duration": 0.021474,
     "end_time": "2023-12-18T11:04:06.477713",
     "exception": false,
     "start_time": "2023-12-18T11:04:06.456239",
     "status": "completed"
    },
    "tags": []
   },
   "outputs": [],
   "source": [
    "sent_score = {}"
   ]
  },
  {
   "cell_type": "code",
   "execution_count": 16,
   "id": "64db3665",
   "metadata": {
    "execution": {
     "iopub.execute_input": "2023-12-18T11:04:06.503111Z",
     "iopub.status.busy": "2023-12-18T11:04:06.502696Z",
     "iopub.status.idle": "2023-12-18T11:04:06.508967Z",
     "shell.execute_reply": "2023-12-18T11:04:06.507743Z"
    },
    "id": "zlmOv0FrjA9z",
    "papermill": {
     "duration": 0.02217,
     "end_time": "2023-12-18T11:04:06.511240",
     "exception": false,
     "start_time": "2023-12-18T11:04:06.489070",
     "status": "completed"
    },
    "tags": []
   },
   "outputs": [],
   "source": [
    "for sent in sent_tokens:\n",
    "  for word in sent:\n",
    "    if word.text.lower()in word_freq.keys():\n",
    "      if sent not in sent_score.keys():\n",
    "        sent_score[sent] = word_freq[word.text.lower()]\n",
    "      else:\n",
    "        sent_score[sent] += word_freq[word.text.lower()]  \n",
    "# Here the frequency of the sentence is extracted"
   ]
  },
  {
   "cell_type": "code",
   "execution_count": 17,
   "id": "9508370e",
   "metadata": {
    "execution": {
     "iopub.execute_input": "2023-12-18T11:04:06.536532Z",
     "iopub.status.busy": "2023-12-18T11:04:06.536140Z",
     "iopub.status.idle": "2023-12-18T11:04:06.542698Z",
     "shell.execute_reply": "2023-12-18T11:04:06.541892Z"
    },
    "id": "xFHP4Jt9jBA6",
    "outputId": "6ef3f643-1ef2-46d5-e3ea-80b206d16b43",
    "papermill": {
     "duration": 0.022876,
     "end_time": "2023-12-18T11:04:06.545307",
     "exception": false,
     "start_time": "2023-12-18T11:04:06.522431",
     "status": "completed"
    },
    "tags": []
   },
   "outputs": [
    {
     "data": {
      "text/plain": [
       "{ Load shedding is one of the common incidents in our life.: 2.6000000000000005,\n",
       " We almost every day experience load shedding.: 2.2,\n",
       " When the power supply can not meet the demand, it leads to load shedding.: 3.0,\n",
       " It causes a crisis in the electricity supply.: 1.4,\n",
       " The unplanned distribution of electricity is the main cause of load shedding.: 3.2,\n",
       " The reason can be the illegal connection and shortage of the production of electricity.: 1.6,\n",
       " People suffer a lot because of load shedding.: 2.2,\n",
       " They can’t work properly.: 0.6000000000000001,\n",
       " Students can’t study properly.: 0.6000000000000001}"
      ]
     },
     "execution_count": 17,
     "metadata": {},
     "output_type": "execute_result"
    }
   ],
   "source": [
    "sent_score #Here extracted value of every sentence frequency"
   ]
  },
  {
   "cell_type": "code",
   "execution_count": null,
   "id": "790b9e7c",
   "metadata": {
    "id": "uxKnPpw5iuUD",
    "papermill": {
     "duration": 0.011154,
     "end_time": "2023-12-18T11:04:06.568196",
     "exception": false,
     "start_time": "2023-12-18T11:04:06.557042",
     "status": "completed"
    },
    "tags": []
   },
   "outputs": [],
   "source": []
  },
  {
   "cell_type": "code",
   "execution_count": 18,
   "id": "7eceb08b",
   "metadata": {
    "execution": {
     "iopub.execute_input": "2023-12-18T11:04:06.593652Z",
     "iopub.status.busy": "2023-12-18T11:04:06.593079Z",
     "iopub.status.idle": "2023-12-18T11:04:06.599035Z",
     "shell.execute_reply": "2023-12-18T11:04:06.597769Z"
    },
    "id": "KU1OtvlkaZwK",
    "papermill": {
     "duration": 0.022216,
     "end_time": "2023-12-18T11:04:06.601798",
     "exception": false,
     "start_time": "2023-12-18T11:04:06.579582",
     "status": "completed"
    },
    "tags": []
   },
   "outputs": [],
   "source": [
    "from heapq import nlargest"
   ]
  },
  {
   "cell_type": "code",
   "execution_count": 19,
   "id": "67bf1975",
   "metadata": {
    "execution": {
     "iopub.execute_input": "2023-12-18T11:04:06.628163Z",
     "iopub.status.busy": "2023-12-18T11:04:06.627715Z",
     "iopub.status.idle": "2023-12-18T11:04:06.634104Z",
     "shell.execute_reply": "2023-12-18T11:04:06.633308Z"
    },
    "id": "xTZFwbablAlh",
    "outputId": "de7628af-13d6-4879-e96e-0956bb4a91de",
    "papermill": {
     "duration": 0.022416,
     "end_time": "2023-12-18T11:04:06.636319",
     "exception": false,
     "start_time": "2023-12-18T11:04:06.613903",
     "status": "completed"
    },
    "tags": []
   },
   "outputs": [
    {
     "data": {
      "text/plain": [
       "2.6999999999999997"
      ]
     },
     "execution_count": 19,
     "metadata": {},
     "output_type": "execute_result"
    }
   ],
   "source": [
    "len(sent_score) * 0.3 #The expression len(sent_score) * 0.3 calculates 30% of the length of the sent_score dictionary. "
   ]
  },
  {
   "cell_type": "code",
   "execution_count": 20,
   "id": "68976195",
   "metadata": {
    "execution": {
     "iopub.execute_input": "2023-12-18T11:04:06.661459Z",
     "iopub.status.busy": "2023-12-18T11:04:06.661032Z",
     "iopub.status.idle": "2023-12-18T11:04:06.666056Z",
     "shell.execute_reply": "2023-12-18T11:04:06.664891Z"
    },
    "id": "bTzOy35zadyi",
    "papermill": {
     "duration": 0.020413,
     "end_time": "2023-12-18T11:04:06.668460",
     "exception": false,
     "start_time": "2023-12-18T11:04:06.648047",
     "status": "completed"
    },
    "tags": []
   },
   "outputs": [],
   "source": [
    "summary = nlargest(n = 4, iterable= sent_score, key = sent_score.get) #Specifies that we want to retrieve the top 4 elements.\n",
    "#retrieving the top elements from the sent_score dictionary, and the sorting is done based on the scores associated with each \n",
    "#sentence."
   ]
  },
  {
   "cell_type": "code",
   "execution_count": 21,
   "id": "fdde668f",
   "metadata": {
    "execution": {
     "iopub.execute_input": "2023-12-18T11:04:06.695213Z",
     "iopub.status.busy": "2023-12-18T11:04:06.694774Z",
     "iopub.status.idle": "2023-12-18T11:04:06.701369Z",
     "shell.execute_reply": "2023-12-18T11:04:06.699897Z"
    },
    "id": "kDgI9QPvloA8",
    "outputId": "c2d22159-38f2-4e24-f925-bb290a4fde29",
    "papermill": {
     "duration": 0.023676,
     "end_time": "2023-12-18T11:04:06.704228",
     "exception": false,
     "start_time": "2023-12-18T11:04:06.680552",
     "status": "completed"
    },
    "tags": []
   },
   "outputs": [
    {
     "name": "stdout",
     "output_type": "stream",
     "text": [
      "[The unplanned distribution of electricity is the main cause of load shedding., When the power supply can not meet the demand, it leads to load shedding.,  Load shedding is one of the common incidents in our life., We almost every day experience load shedding.]\n"
     ]
    }
   ],
   "source": [
    "print(summary) "
   ]
  },
  {
   "cell_type": "code",
   "execution_count": 22,
   "id": "67118695",
   "metadata": {
    "execution": {
     "iopub.execute_input": "2023-12-18T11:04:06.729151Z",
     "iopub.status.busy": "2023-12-18T11:04:06.728718Z",
     "iopub.status.idle": "2023-12-18T11:04:06.733974Z",
     "shell.execute_reply": "2023-12-18T11:04:06.732873Z"
    },
    "id": "JHTjdEfalpRs",
    "papermill": {
     "duration": 0.020419,
     "end_time": "2023-12-18T11:04:06.736265",
     "exception": false,
     "start_time": "2023-12-18T11:04:06.715846",
     "status": "completed"
    },
    "tags": []
   },
   "outputs": [],
   "source": [
    "final_summary = [word.text for word in summary] #final_summary variable becomes a list of the text of each word in the sentences \n",
    "#contained in the summarylist."
   ]
  },
  {
   "cell_type": "code",
   "execution_count": 23,
   "id": "b18b36b5",
   "metadata": {
    "execution": {
     "iopub.execute_input": "2023-12-18T11:04:06.762597Z",
     "iopub.status.busy": "2023-12-18T11:04:06.762196Z",
     "iopub.status.idle": "2023-12-18T11:04:06.767797Z",
     "shell.execute_reply": "2023-12-18T11:04:06.766734Z"
    },
    "id": "-BB8GTOel87e",
    "outputId": "900c4342-dabf-44f9-ab10-ba2620f2038e",
    "papermill": {
     "duration": 0.022506,
     "end_time": "2023-12-18T11:04:06.770860",
     "exception": false,
     "start_time": "2023-12-18T11:04:06.748354",
     "status": "completed"
    },
    "tags": []
   },
   "outputs": [
    {
     "name": "stdout",
     "output_type": "stream",
     "text": [
      "['The unplanned distribution of electricity is the main cause of load shedding.', 'When the power supply can not meet the demand, it leads to load shedding.', ' Load shedding is one of the common incidents in our life.', 'We almost every day experience load shedding.']\n"
     ]
    }
   ],
   "source": [
    "print(final_summary) #list of final_summary"
   ]
  },
  {
   "cell_type": "code",
   "execution_count": 24,
   "id": "2d438686",
   "metadata": {
    "execution": {
     "iopub.execute_input": "2023-12-18T11:04:06.796525Z",
     "iopub.status.busy": "2023-12-18T11:04:06.796105Z",
     "iopub.status.idle": "2023-12-18T11:04:06.801322Z",
     "shell.execute_reply": "2023-12-18T11:04:06.800054Z"
    },
    "id": "vVsnJhLsl-1X",
    "papermill": {
     "duration": 0.020699,
     "end_time": "2023-12-18T11:04:06.803628",
     "exception": false,
     "start_time": "2023-12-18T11:04:06.782929",
     "status": "completed"
    },
    "tags": []
   },
   "outputs": [],
   "source": [
    "summary = \" \".join(final_summary) #joined  all sentence."
   ]
  },
  {
   "cell_type": "code",
   "execution_count": 25,
   "id": "4630d7e1",
   "metadata": {
    "execution": {
     "iopub.execute_input": "2023-12-18T11:04:06.830264Z",
     "iopub.status.busy": "2023-12-18T11:04:06.829841Z",
     "iopub.status.idle": "2023-12-18T11:04:06.835390Z",
     "shell.execute_reply": "2023-12-18T11:04:06.834242Z"
    },
    "id": "Gj9MKz2kmJkH",
    "outputId": "decacd01-36de-4ffe-8ba5-3104ecb13404",
    "papermill": {
     "duration": 0.022285,
     "end_time": "2023-12-18T11:04:06.838045",
     "exception": false,
     "start_time": "2023-12-18T11:04:06.815760",
     "status": "completed"
    },
    "tags": []
   },
   "outputs": [
    {
     "name": "stdout",
     "output_type": "stream",
     "text": [
      "The unplanned distribution of electricity is the main cause of load shedding. When the power supply can not meet the demand, it leads to load shedding.  Load shedding is one of the common incidents in our life. We almost every day experience load shedding.\n"
     ]
    }
   ],
   "source": [
    "print(summary)"
   ]
  },
  {
   "cell_type": "markdown",
   "id": "b6a42e6d",
   "metadata": {
    "papermill": {
     "duration": 0.012217,
     "end_time": "2023-12-18T11:04:06.862197",
     "exception": false,
     "start_time": "2023-12-18T11:04:06.849980",
     "status": "completed"
    },
    "tags": []
   },
   "source": [
    "Orginal text data: \n",
    "\n",
    "Load shedding is one of the common incidents in our life. We almost every day experience load shedding. When the power supply can not meet the demand, it leads to load shedding. It causes a crisis in the electricity supply. The unplanned distribution of electricity is the main cause of load shedding. The reason can be the illegal connection and shortage of the production of electricity. People suffer a lot because of load shedding. They can’t work properly. Students can’t study properly."
   ]
  },
  {
   "cell_type": "code",
   "execution_count": 26,
   "id": "eb2cc0cd",
   "metadata": {
    "execution": {
     "iopub.execute_input": "2023-12-18T11:04:06.890534Z",
     "iopub.status.busy": "2023-12-18T11:04:06.890155Z",
     "iopub.status.idle": "2023-12-18T11:04:06.896850Z",
     "shell.execute_reply": "2023-12-18T11:04:06.896063Z"
    },
    "id": "YRZj6HjRmM8F",
    "outputId": "2797be77-eb76-4a8e-9685-4b7a71504dcf",
    "papermill": {
     "duration": 0.023828,
     "end_time": "2023-12-18T11:04:06.899055",
     "exception": false,
     "start_time": "2023-12-18T11:04:06.875227",
     "status": "completed"
    },
    "tags": []
   },
   "outputs": [
    {
     "data": {
      "text/plain": [
       "256"
      ]
     },
     "execution_count": 26,
     "metadata": {},
     "output_type": "execute_result"
    }
   ],
   "source": [
    "len(summary) #Now we get len 256 and earlier our original text len was 494"
   ]
  },
  {
   "cell_type": "code",
   "execution_count": 27,
   "id": "9890ecc7",
   "metadata": {
    "execution": {
     "iopub.execute_input": "2023-12-18T11:04:06.927027Z",
     "iopub.status.busy": "2023-12-18T11:04:06.926583Z",
     "iopub.status.idle": "2023-12-18T11:04:06.934501Z",
     "shell.execute_reply": "2023-12-18T11:04:06.933296Z"
    },
    "id": "JY3A7cySmTQP",
    "outputId": "975d9e77-8271-4140-fd7f-958745bc05e6",
    "papermill": {
     "duration": 0.024528,
     "end_time": "2023-12-18T11:04:06.937044",
     "exception": false,
     "start_time": "2023-12-18T11:04:06.912516",
     "status": "completed"
    },
    "tags": []
   },
   "outputs": [
    {
     "data": {
      "text/plain": [
       "0.5182186234817814"
      ]
     },
     "execution_count": 27,
     "metadata": {},
     "output_type": "execute_result"
    }
   ],
   "source": [
    "len(summary)/ len(text) #calculates the ratio of the length of the summary list to the length of the text object. "
   ]
  },
  {
   "cell_type": "code",
   "execution_count": null,
   "id": "28efdcb6",
   "metadata": {
    "papermill": {
     "duration": 0.011975,
     "end_time": "2023-12-18T11:04:06.961922",
     "exception": false,
     "start_time": "2023-12-18T11:04:06.949947",
     "status": "completed"
    },
    "tags": []
   },
   "outputs": [],
   "source": []
  },
  {
   "cell_type": "code",
   "execution_count": null,
   "id": "c4b1aef4",
   "metadata": {
    "papermill": {
     "duration": 0.075019,
     "end_time": "2023-12-18T11:04:07.049222",
     "exception": false,
     "start_time": "2023-12-18T11:04:06.974203",
     "status": "completed"
    },
    "tags": []
   },
   "outputs": [],
   "source": []
  }
 ],
 "metadata": {
  "colab": {
   "provenance": []
  },
  "kaggle": {
   "accelerator": "none",
   "dataSources": [],
   "dockerImageVersionId": 30626,
   "isGpuEnabled": false,
   "isInternetEnabled": true,
   "language": "python",
   "sourceType": "notebook"
  },
  "kernelspec": {
   "display_name": "Python 3",
   "language": "python",
   "name": "python3"
  },
  "language_info": {
   "codemirror_mode": {
    "name": "ipython",
    "version": 3
   },
   "file_extension": ".py",
   "mimetype": "text/x-python",
   "name": "python",
   "nbconvert_exporter": "python",
   "pygments_lexer": "ipython3",
   "version": "3.10.12"
  },
  "papermill": {
   "default_parameters": {},
   "duration": 14.002964,
   "end_time": "2023-12-18T11:04:08.186357",
   "environment_variables": {},
   "exception": null,
   "input_path": "__notebook__.ipynb",
   "output_path": "__notebook__.ipynb",
   "parameters": {},
   "start_time": "2023-12-18T11:03:54.183393",
   "version": "2.4.0"
  }
 },
 "nbformat": 4,
 "nbformat_minor": 5
}
